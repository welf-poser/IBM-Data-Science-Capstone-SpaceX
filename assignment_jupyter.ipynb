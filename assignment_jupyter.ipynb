{
  "metadata": {
    "language_info": {
      "codemirror_mode": {
        "name": "python",
        "version": 3
      },
      "file_extension": ".py",
      "mimetype": "text/x-python",
      "name": "python",
      "nbconvert_exporter": "python",
      "pygments_lexer": "ipython3",
      "version": "3.8"
    },
    "kernelspec": {
      "name": "python",
      "display_name": "Pyolite",
      "language": "python"
    }
  },
  "nbformat_minor": 4,
  "nbformat": 4,
  "cells": [
    {
      "cell_type": "markdown",
      "source": "<h1>My Jupyter Notebook on IBM Watson Studio</h1>",
      "metadata": {}
    },
    {
      "cell_type": "markdown",
      "source": "<b>Welf Poser</b>",
      "metadata": {}
    },
    {
      "cell_type": "markdown",
      "source": "<i>I´m interested in Data Science because i want to pursue a career in (IT-)Consulting and that for i need to know data science in oder to do business analysis. But besides my career goals i was always interested in AI and Machine learning and want to take up some kaggle challenges as a hobby and even thinking about doing my masters degree in AI, Data Science oder Business Analysis.</i>",
      "metadata": {}
    },
    {
      "cell_type": "markdown",
      "source": "<h3>My Code print a message to the console.</h3>",
      "metadata": {}
    },
    {
      "cell_type": "code",
      "source": "print(\"Hello fellow coursemembers!! :)\")",
      "metadata": {
        "trusted": true
      },
      "execution_count": 3,
      "outputs": [
        {
          "name": "stdout",
          "text": "Hello fellow coursemembers!! :)\n",
          "output_type": "stream"
        }
      ]
    },
    {
      "cell_type": "markdown",
      "source": "<hr>\n<ol>\n    <li>First entry</li>\n    <li>Second entry</li>\n    <li>Look at This:\n        <ul>\n            <li>First Bullet</li>\n            <li>Second Bullet</li>\n            <li>third Bullet</li>\n        </ul>\n    </li>\n</ol>\n\n<table>\n    <tr>\n        <th>boring1</th>\n        <th>boring2</th>\n        <th>boring3</th>\n    </tr>\n    <tr>\n        <th>exhausting1</th>\n        <th>exhausting2</th>\n        <th>exhausting3</th>\n    </tr>\n</table>",
      "metadata": {}
    }
  ]
}
